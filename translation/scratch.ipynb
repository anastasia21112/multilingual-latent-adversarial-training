{
 "cells": [
  {
   "cell_type": "code",
   "execution_count": 2,
   "metadata": {},
   "outputs": [
    {
     "data": {
      "application/vnd.jupyter.widget-view+json": {
       "model_id": "6cbbcb7b55c941fa9cb267d65f026a35",
       "version_major": 2,
       "version_minor": 0
      },
      "text/plain": [
       "Uploading the dataset shards:   0%|          | 0/1 [00:00<?, ?it/s]"
      ]
     },
     "metadata": {},
     "output_type": "display_data"
    },
    {
     "data": {
      "application/vnd.jupyter.widget-view+json": {
       "model_id": "48239490f2d7419888c718827d5f8e23",
       "version_major": 2,
       "version_minor": 0
      },
      "text/plain": [
       "Creating parquet from Arrow format:   0%|          | 0/15 [00:00<?, ?ba/s]"
      ]
     },
     "metadata": {},
     "output_type": "display_data"
    },
    {
     "data": {
      "text/plain": [
       "CommitInfo(commit_url='https://huggingface.co/datasets/maanasharma5/arabic_sft_data/commit/13dcc76dd2f6f7c3065f09cd6120e3ff48999693', commit_message='Upload dataset', commit_description='', oid='13dcc76dd2f6f7c3065f09cd6120e3ff48999693', pr_url=None, repo_url=RepoUrl('https://huggingface.co/datasets/maanasharma5/arabic_sft_data', endpoint='https://huggingface.co', repo_type='dataset', repo_id='maanasharma5/arabic_sft_data'), pr_revision=None, pr_num=None)"
      ]
     },
     "execution_count": 2,
     "metadata": {},
     "output_type": "execute_result"
    }
   ],
   "source": [
    "from datasets import Dataset, DatasetDict\n",
    "import pandas as pd\n",
    "\n",
    "# Load the parquet file using pandas\n",
    "df = pd.read_parquet(\"arb_translated_data.parquet\")\n",
    "\n",
    "# Convert pandas DataFrame to Hugging Face Dataset\n",
    "data = Dataset.from_pandas(df)\n",
    "\n",
    "# Wrap it in a DatasetDict as a single \"train\" split\n",
    "dataset = DatasetDict({\"train\": data})\n",
    "\n",
    "# Push to Hugging Face Hub\n",
    "dataset.push_to_hub(\"arabic_sft_data\", private=False)\n"
   ]
  },
  {
   "cell_type": "code",
   "execution_count": null,
   "metadata": {},
   "outputs": [],
   "source": []
  }
 ],
 "metadata": {
  "kernelspec": {
   "display_name": ".mulbere-scratch",
   "language": "python",
   "name": "python3"
  },
  "language_info": {
   "codemirror_mode": {
    "name": "ipython",
    "version": 3
   },
   "file_extension": ".py",
   "mimetype": "text/x-python",
   "name": "python",
   "nbconvert_exporter": "python",
   "pygments_lexer": "ipython3",
   "version": "3.9.20"
  }
 },
 "nbformat": 4,
 "nbformat_minor": 2
}
