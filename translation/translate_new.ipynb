{
 "cells": [
  {
   "cell_type": "code",
   "execution_count": 3,
   "metadata": {},
   "outputs": [],
   "source": [
    "import torch\n",
    "import gc\n",
    "import pandas as pd\n",
    "import math\n",
    "from transformers import AutoProcessor, SeamlessM4Tv2ForTextToText\n",
    "from datasets import load_dataset, Dataset\n",
    "from torch.utils.data import DataLoader\n",
    "from tqdm import tqdm"
   ]
  },
  {
   "cell_type": "code",
   "execution_count": null,
   "metadata": {},
   "outputs": [
    {
     "data": {
      "application/vnd.jupyter.widget-view+json": {
       "model_id": "e001e76932b64166ad704ff39bdc2a49",
       "version_major": 2,
       "version_minor": 0
      },
      "text/plain": [
       "Loading checkpoint shards:   0%|          | 0/2 [00:00<?, ?it/s]"
      ]
     },
     "metadata": {},
     "output_type": "display_data"
    }
   ],
   "source": [
    "SOURCE_LANGUAGE = \"eng\"\n",
    "TARGET_LANGUAGES = [\n",
    "    \"spa\",\n",
    "    \"cmn\",\n",
    "    \"kor\",\n",
    "    \"arb\",\n",
    "    \"ell\",\n",
    "    \"swh\",\n",
    "    \"amh\",\n",
    "    \"vie\",\n",
    "]\n",
    "\n",
    "assert torch.cuda.is_available(), \"expected cuda\"\n",
    "device = \"cuda\"\n",
    "\n",
    "model = SeamlessM4Tv2ForTextToText.from_pretrained(\"facebook/seamless-m4t-v2-large\").to(device)\n",
    "processor = AutoProcessor.from_pretrained(\"facebook/seamless-m4t-v2-large\")"
   ]
  },
  {
   "cell_type": "code",
   "execution_count": null,
   "metadata": {},
   "outputs": [
    {
     "name": "stderr",
     "output_type": "stream",
     "text": [
      "  0%|          | 0/400 [00:00<?, ?it/s]"
     ]
    },
    {
     "name": "stderr",
     "output_type": "stream",
     "text": [
      "100%|██████████| 400/400 [04:36<00:00,  1.45it/s]\n"
     ]
    }
   ],
   "source": [
    "for target_language in TARGET_LANGUAGES:\n",
    "    df = pd.read_csv(\"/data/healthy-ml/scratch/maanas/multilingual_jailbreak_scratch/multilingual-latent-adversarial-training/tasks/harmbench/data/harmbench_data/behavior_datasets/harmbench_behaviors_text_all.csv\")\n",
    "\n",
    "    def translate_batch(texts: list[str], targ_lang: str) -> list[str]:\n",
    "        text_inputs = processor(text = texts, src_lang = SOURCE_LANGUAGE, return_tensors=\"pt\").to(device)\n",
    "        text_outputs = model.generate(**text_inputs, tgt_lang = targ_lang, num_beams=4, do_sample=True)\n",
    "        return processor.batch_decode(text_outputs, skip_special_tokens=True)\n",
    "\n",
    "    english_prompts = df[\"Behavior\"].tolist()\n",
    "    translated_prompts = [translate_batch([prompt], target_language)[0] for prompt in tqdm(english_prompts)]\n",
    "\n",
    "    df[\"Behavior\"] = translated_prompts\n",
    "    df.to_csv(f\"harmbench_behaviors_text_all_{target_language}.csv\", index=False)"
   ]
  },
  {
   "cell_type": "code",
   "execution_count": null,
   "metadata": {},
   "outputs": [],
   "source": []
  },
  {
   "cell_type": "code",
   "execution_count": null,
   "metadata": {},
   "outputs": [],
   "source": []
  }
 ],
 "metadata": {
  "kernelspec": {
   "display_name": ".mulbere-scratch",
   "language": "python",
   "name": "python3"
  },
  "language_info": {
   "codemirror_mode": {
    "name": "ipython",
    "version": 3
   },
   "file_extension": ".py",
   "mimetype": "text/x-python",
   "name": "python",
   "nbconvert_exporter": "python",
   "pygments_lexer": "ipython3",
   "version": "3.9.20"
  }
 },
 "nbformat": 4,
 "nbformat_minor": 2
}
