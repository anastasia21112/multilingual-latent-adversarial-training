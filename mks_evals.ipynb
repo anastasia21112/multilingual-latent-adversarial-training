{
 "cells": [
  {
   "cell_type": "markdown",
   "metadata": {},
   "source": [
    "## Cant run while doing anything else on an A100 -- run this independently"
   ]
  },
  {
   "cell_type": "code",
   "execution_count": 1,
   "metadata": {},
   "outputs": [
    {
     "data": {
      "text/plain": [
       "False"
      ]
     },
     "execution_count": 1,
     "metadata": {},
     "output_type": "execute_result"
    }
   ],
   "source": [
    "from transformers import AutoModelForCausalLM, AutoTokenizer\n",
    "from dotenv import load_dotenv\n",
    "import torch\n",
    "import os\n",
    "load_dotenv()"
   ]
  },
  {
   "cell_type": "code",
   "execution_count": 2,
   "metadata": {},
   "outputs": [],
   "source": [
    "# import torch, gc\n",
    "# torch.cuda.reset_accumulated_memory_stats()\n",
    "# torch.cuda.reset_peak_memory_stats()\n",
    "# torch.cuda.empty_cache()\n",
    "# gc.collect()"
   ]
  },
  {
   "cell_type": "code",
   "execution_count": 3,
   "metadata": {},
   "outputs": [],
   "source": [
    "import tasks.harmbench.FastHarmBenchEvals as FastHarmBenchEvals\n",
    "\n",
    "VALID_LANGUAGES = [\n",
    "    \"eng\",\n",
    "    \"spa\",\n",
    "    \"cmn\",\n",
    "    \"kor\",\n",
    "    \"arb\",\n",
    "    \"ell\",\n",
    "    \"swh\",\n",
    "    \"amh\",\n",
    "    \"vie\",\n",
    "]\n",
    "\n",
    "def run_evals(model):\n",
    "    print(\"Evaluating some general capabilities on English Only\")\n",
    "    FastHarmBenchEvals.run_general_evals(model, language=\"eng\", evals_to_include=[\"MMLU\", \"SciQ\", \"HellaSwag\"])\n",
    "\n",
    "    for lang in VALID_LANGUAGES:\n",
    "        print(f\"\\nEvaluating on {lang}\")\n",
    "        print(\"Running MMMLU Evals\")\n",
    "        try:\n",
    "            FastHarmBenchEvals.run_general_evals(model, language=lang, evals_to_include=[\"MMLU\"])\n",
    "        except ValueError as e:\n",
    "            print(f\"Error running MMLU evals for {lang}\\n Error: {e}\")\n",
    "        print(\"Running Attack Evals\")\n",
    "        FastHarmBenchEvals.run_attack_evals(model, language=lang)\n",
    "        print(\"Running Attack Evals with Gibberish Suffixes\")\n",
    "        FastHarmBenchEvals.run_attack_evals(model, language=lang, gibberish_suffixes=True)"
   ]
  },
  {
   "cell_type": "code",
   "execution_count": null,
   "metadata": {},
   "outputs": [
    {
     "data": {
      "application/vnd.jupyter.widget-view+json": {
       "model_id": "54c9ffcfb3f444f69753eb6dc9a0cf5c",
       "version_major": 2,
       "version_minor": 0
      },
      "text/plain": [
       "Loading checkpoint shards:   0%|          | 0/2 [00:00<?, ?it/s]"
      ]
     },
     "metadata": {},
     "output_type": "display_data"
    },
    {
     "name": "stdout",
     "output_type": "stream",
     "text": [
      "Base Model\n",
      "Evaluating some general capabilities on English Only\n",
      "Running English MMMLU\n"
     ]
    },
    {
     "name": "stderr",
     "output_type": "stream",
     "text": [
      "0it [00:00, ?it/s]/data/healthy-ml/scratch/maanas/multilingual_jailbreak_scratch/.mulbere-scratch/lib/python3.9/site-packages/transformers/generation/configuration_utils.py:595: UserWarning: `do_sample` is set to `False`. However, `top_p` is set to `0.9` -- this flag is only used in sample-based generation modes. You should set `do_sample=True` or unset `top_p`.\n",
      "  warnings.warn(\n",
      "/data/healthy-ml/scratch/maanas/multilingual_jailbreak_scratch/.mulbere-scratch/lib/python3.9/site-packages/transformers/generation/configuration_utils.py:612: UserWarning: `do_sample` is set to `False`. However, `top_k` is set to `5` -- this flag is only used in sample-based generation modes. You should set `do_sample=True` or unset `top_k`.\n",
      "  warnings.warn(\n",
      "From v4.47 onwards, when a model cache is to be returned, `generate` will return a `Cache` instance instead by default (as opposed to the legacy tuple of tuples format). If you want to keep returning the legacy format, please set `return_legacy_cache=True`.\n",
      "4it [00:07,  1.93s/it]\n"
     ]
    },
    {
     "name": "stdout",
     "output_type": "stream",
     "text": [
      "MMLU accuracy is 0.46\n"
     ]
    },
    {
     "name": "stderr",
     "output_type": "stream",
     "text": [
      "4it [00:02,  1.47it/s]\n"
     ]
    },
    {
     "name": "stdout",
     "output_type": "stream",
     "text": [
      "HellaSwag accuracy is 0.4\n"
     ]
    },
    {
     "name": "stderr",
     "output_type": "stream",
     "text": [
      "40it [00:07,  5.35it/s]\n"
     ]
    },
    {
     "name": "stdout",
     "output_type": "stream",
     "text": [
      "SciQ accuracy is 0.8\n",
      "{'MMLU': 0.46, 'HellaSwag': 0.4, 'SciQ': 0.8}\n",
      "\n",
      "Evaluating on eng\n",
      "Running MMMLU Evals\n",
      "Running English MMMLU\n"
     ]
    },
    {
     "name": "stderr",
     "output_type": "stream",
     "text": [
      "4it [00:04,  1.23s/it]\n"
     ]
    },
    {
     "name": "stdout",
     "output_type": "stream",
     "text": [
      "MMLU accuracy is 0.46\n",
      "{'MMLU': 0.46}\n",
      "Running Attack Evals\n",
      "Error loading from cais cluster:  [Errno 13] Permission denied: '/data/private_models'  loading from huggingface\n"
     ]
    },
    {
     "data": {
      "application/vnd.jupyter.widget-view+json": {
       "model_id": "582e68caed174ea084bac58b8c40f059",
       "version_major": 2,
       "version_minor": 0
      },
      "text/plain": [
       "Loading checkpoint shards:   0%|          | 0/6 [00:00<?, ?it/s]"
      ]
     },
     "metadata": {},
     "output_type": "display_data"
    },
    {
     "data": {
      "application/vnd.jupyter.widget-view+json": {
       "model_id": "c4df4349afba462586d533c3303ee4d4",
       "version_major": 2,
       "version_minor": 0
      },
      "text/plain": [
       "  0%|          | 0/4 [00:00<?, ?it/s]"
      ]
     },
     "metadata": {},
     "output_type": "display_data"
    },
    {
     "name": "stderr",
     "output_type": "stream",
     "text": [
      "/data/healthy-ml/scratch/maanas/multilingual_jailbreak_scratch/.mulbere-scratch/lib/python3.9/site-packages/transformers/generation/configuration_utils.py:590: UserWarning: `do_sample` is set to `False`. However, `temperature` is set to `0.7` -- this flag is only used in sample-based generation modes. You should set `do_sample=True` or unset `temperature`.\n",
      "  warnings.warn(\n",
      "/data/healthy-ml/scratch/maanas/multilingual_jailbreak_scratch/.mulbere-scratch/lib/python3.9/site-packages/transformers/generation/configuration_utils.py:595: UserWarning: `do_sample` is set to `False`. However, `top_p` is set to `0.9` -- this flag is only used in sample-based generation modes. You should set `do_sample=True` or unset `top_p`.\n",
      "  warnings.warn(\n"
     ]
    },
    {
     "name": "stdout",
     "output_type": "stream",
     "text": [
      "DirectRequest ASR is 0.03\n"
     ]
    },
    {
     "data": {
      "application/vnd.jupyter.widget-view+json": {
       "model_id": "130d677d6adf4d27a1c7683a0f6c13b8",
       "version_major": 2,
       "version_minor": 0
      },
      "text/plain": [
       "  0%|          | 0/4 [00:00<?, ?it/s]"
      ]
     },
     "metadata": {},
     "output_type": "display_data"
    },
    {
     "name": "stdout",
     "output_type": "stream",
     "text": [
      "clean ASR is 0.68\n",
      "Language is eng\n",
      "{'DirectRequest': 0.03, 'clean': 0.68}\n",
      "Running Attack Evals with Gibberish Suffixes\n",
      "Error loading from cais cluster:  [Errno 13] Permission denied: '/data/private_models'  loading from huggingface\n"
     ]
    },
    {
     "data": {
      "application/vnd.jupyter.widget-view+json": {
       "model_id": "7334037ca65c4e549716e4c83556a7d9",
       "version_major": 2,
       "version_minor": 0
      },
      "text/plain": [
       "Loading checkpoint shards:   0%|          | 0/6 [00:00<?, ?it/s]"
      ]
     },
     "metadata": {},
     "output_type": "display_data"
    },
    {
     "data": {
      "application/vnd.jupyter.widget-view+json": {
       "model_id": "9426ea4d624c4ed7abaf742a8bbfcca7",
       "version_major": 2,
       "version_minor": 0
      },
      "text/plain": [
       "  0%|          | 0/4 [00:00<?, ?it/s]"
      ]
     },
     "metadata": {},
     "output_type": "display_data"
    },
    {
     "name": "stderr",
     "output_type": "stream",
     "text": [
      "/data/healthy-ml/scratch/maanas/multilingual_jailbreak_scratch/.mulbere-scratch/lib/python3.9/site-packages/transformers/generation/configuration_utils.py:590: UserWarning: `do_sample` is set to `False`. However, `temperature` is set to `0.7` -- this flag is only used in sample-based generation modes. You should set `do_sample=True` or unset `temperature`.\n",
      "  warnings.warn(\n",
      "/data/healthy-ml/scratch/maanas/multilingual_jailbreak_scratch/.mulbere-scratch/lib/python3.9/site-packages/transformers/generation/configuration_utils.py:595: UserWarning: `do_sample` is set to `False`. However, `top_p` is set to `0.9` -- this flag is only used in sample-based generation modes. You should set `do_sample=True` or unset `top_p`.\n",
      "  warnings.warn(\n"
     ]
    },
    {
     "name": "stdout",
     "output_type": "stream",
     "text": [
      "DirectRequest ASR is 0.03\n"
     ]
    },
    {
     "data": {
      "application/vnd.jupyter.widget-view+json": {
       "model_id": "176a04df457e4a9395283be7e30919fd",
       "version_major": 2,
       "version_minor": 0
      },
      "text/plain": [
       "  0%|          | 0/4 [00:00<?, ?it/s]"
      ]
     },
     "metadata": {},
     "output_type": "display_data"
    },
    {
     "name": "stdout",
     "output_type": "stream",
     "text": [
      "clean ASR is 0.77\n",
      "Language is eng\n",
      "{'DirectRequest': 0.03, 'clean': 0.77}\n",
      "\n",
      "Evaluating on spa\n",
      "Running MMMLU Evals\n",
      "Error running MMLU evals for spa\n",
      " Error: Language spa not supported for MMMLU yet.\n",
      "Running Attack Evals\n",
      "Error loading from cais cluster:  [Errno 13] Permission denied: '/data/private_models'  loading from huggingface\n"
     ]
    },
    {
     "data": {
      "application/vnd.jupyter.widget-view+json": {
       "model_id": "48a368518fea4daaad34cbba3929c9b1",
       "version_major": 2,
       "version_minor": 0
      },
      "text/plain": [
       "Loading checkpoint shards:   0%|          | 0/6 [00:00<?, ?it/s]"
      ]
     },
     "metadata": {},
     "output_type": "display_data"
    },
    {
     "data": {
      "application/vnd.jupyter.widget-view+json": {
       "model_id": "d32c308c7c1b4cda9e13fae1fc4ab845",
       "version_major": 2,
       "version_minor": 0
      },
      "text/plain": [
       "  0%|          | 0/4 [00:00<?, ?it/s]"
      ]
     },
     "metadata": {},
     "output_type": "display_data"
    },
    {
     "name": "stderr",
     "output_type": "stream",
     "text": [
      "/data/healthy-ml/scratch/maanas/multilingual_jailbreak_scratch/.mulbere-scratch/lib/python3.9/site-packages/transformers/generation/configuration_utils.py:590: UserWarning: `do_sample` is set to `False`. However, `temperature` is set to `0.7` -- this flag is only used in sample-based generation modes. You should set `do_sample=True` or unset `temperature`.\n",
      "  warnings.warn(\n",
      "/data/healthy-ml/scratch/maanas/multilingual_jailbreak_scratch/.mulbere-scratch/lib/python3.9/site-packages/transformers/generation/configuration_utils.py:595: UserWarning: `do_sample` is set to `False`. However, `top_p` is set to `0.9` -- this flag is only used in sample-based generation modes. You should set `do_sample=True` or unset `top_p`.\n",
      "  warnings.warn(\n"
     ]
    },
    {
     "name": "stdout",
     "output_type": "stream",
     "text": [
      "DirectRequest ASR is 0.03\n"
     ]
    },
    {
     "data": {
      "application/vnd.jupyter.widget-view+json": {
       "model_id": "733e8f6e0baa4dac85d8666a5e720a18",
       "version_major": 2,
       "version_minor": 0
      },
      "text/plain": [
       "  0%|          | 0/4 [00:00<?, ?it/s]"
      ]
     },
     "metadata": {},
     "output_type": "display_data"
    }
   ],
   "source": [
    "# Load the model\n",
    "model_name = \"meta-llama/Llama-2-7b-chat-hf\" # Or any other base model\n",
    "hf_access_token = os.getenv(\"HF_ACCESS_TOKEN\")\n",
    "\n",
    "model = AutoModelForCausalLM.from_pretrained(model_name, token=hf_access_token, torch_dtype=torch.bfloat16).to(\"cuda\")\n",
    "tokenizer = AutoTokenizer.from_pretrained(model_name)\n",
    "\n",
    "print(\"Base Model\")\n",
    "run_evals(model)\n",
    "\n",
    "# print(\"English Only TLAT\")\n",
    "# model.load_adapter(\"adunca08/EnglishOnlyTLAT\")\n",
    "# model.enable_adapters()\n",
    "# run_evals(model)\n",
    "\n",
    "# print(\"English + Vietnamese TLAT\")\n",
    "# model.load_adapter(\"adunca08/EnglishVietnameseTest\")\n",
    "# model.enable_adapters()\n",
    "# run_evals(model)\n",
    "\n",
    "# print(\"Multilingual TLAT\")\n",
    "# model.load_adapter(\"adunca08/MultilingualTrain\")\n",
    "# model.enable_adapters()\n",
    "# run_evals(model)\n",
    "\n",
    "# print(\"Multilingual TLAT with English SFT\")\n",
    "# model.load_adapter(\"adunca08/MultilingualTrainEnglishSFT\")\n",
    "# model.enable_adapters()\n",
    "# run_evals(model)\n",
    "\n"
   ]
  },
  {
   "cell_type": "code",
   "execution_count": null,
   "metadata": {},
   "outputs": [],
   "source": []
  }
 ],
 "metadata": {
  "kernelspec": {
   "display_name": ".mulbere-scratch",
   "language": "python",
   "name": "python3"
  },
  "language_info": {
   "codemirror_mode": {
    "name": "ipython",
    "version": 3
   },
   "file_extension": ".py",
   "mimetype": "text/x-python",
   "name": "python",
   "nbconvert_exporter": "python",
   "pygments_lexer": "ipython3",
   "version": "3.9.20"
  }
 },
 "nbformat": 4,
 "nbformat_minor": 2
}
