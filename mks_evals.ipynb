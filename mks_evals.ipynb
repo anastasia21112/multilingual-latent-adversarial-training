{
 "cells": [
  {
   "cell_type": "markdown",
   "metadata": {},
   "source": [
    "## Cant run while doing anything else on an A100 -- run this independently"
   ]
  },
  {
   "cell_type": "code",
   "execution_count": 1,
   "metadata": {},
   "outputs": [
    {
     "data": {
      "text/plain": [
       "False"
      ]
     },
     "execution_count": 1,
     "metadata": {},
     "output_type": "execute_result"
    }
   ],
   "source": [
    "from transformers import AutoModelForCausalLM, AutoTokenizer\n",
    "from dotenv import load_dotenv\n",
    "import torch\n",
    "import os\n",
    "load_dotenv()"
   ]
  },
  {
   "cell_type": "code",
   "execution_count": null,
   "metadata": {},
   "outputs": [
    {
     "data": {
      "text/plain": [
       "10818"
      ]
     },
     "execution_count": 9,
     "metadata": {},
     "output_type": "execute_result"
    }
   ],
   "source": [
    "# import torch, gc\n",
    "# torch.cuda.reset_accumulated_memory_stats()\n",
    "# torch.cuda.reset_peak_memory_stats()\n",
    "# torch.cuda.empty_cache()\n",
    "# gc.collect()"
   ]
  },
  {
   "cell_type": "code",
   "execution_count": 2,
   "metadata": {},
   "outputs": [],
   "source": [
    "import tasks.harmbench.FastHarmBenchEvals as FastHarmBenchEvals\n",
    "\n",
    "VALID_LANGUAGES = [\n",
    "    # \"eng\",\n",
    "    \"spa\",\n",
    "    # \"cmn\",\n",
    "    # \"kor\",\n",
    "    \"arb\",\n",
    "    # \"ell\",\n",
    "    \"swh\",\n",
    "    # \"amh\",\n",
    "    # \"vie\",\n",
    "]\n",
    "\n",
    "def run_evals(model):\n",
    "    print(\"Evaluating some general capabilities on English Only\")\n",
    "    FastHarmBenchEvals.run_general_evals(model, language=\"eng\", evals_to_include=[\"MMLU\", \"SciQ\", \"HellaSwag\"])\n",
    "\n",
    "    for lang in VALID_LANGUAGES:\n",
    "        print(f\"\\nEvaluating on {lang}\")\n",
    "        print(\"Running MMMLU Evals\")\n",
    "        try:\n",
    "            FastHarmBenchEvals.run_general_evals(model, language=lang, evals_to_include=[\"MMLU\"])\n",
    "        except ValueError as e:\n",
    "            print(f\"Error running MMLU evals for {lang}\\n Error: {e}\")\n",
    "        # print(\"Running Attack Evals\")\n",
    "        # FastHarmBenchEvals.run_attack_evals(model, language=lang)\n",
    "        # print(\"Running Attack Evals with Gibberish Suffixes\")\n",
    "        # FastHarmBenchEvals.run_attack_evals(model, language=lang, gibberish_suffixes=True)"
   ]
  },
  {
   "cell_type": "code",
   "execution_count": 5,
   "metadata": {},
   "outputs": [
    {
     "data": {
      "application/vnd.jupyter.widget-view+json": {
       "model_id": "417f85d44e7c487ea7d6b6ca7f4e2413",
       "version_major": 2,
       "version_minor": 0
      },
      "text/plain": [
       "Loading checkpoint shards:   0%|          | 0/2 [00:00<?, ?it/s]"
      ]
     },
     "metadata": {},
     "output_type": "display_data"
    },
    {
     "name": "stdout",
     "output_type": "stream",
     "text": [
      "Base Model\n",
      "Evaluating some general capabilities on English Only\n",
      "Defaulting to Tiny English MMLU\n"
     ]
    },
    {
     "name": "stderr",
     "output_type": "stream",
     "text": [
      "4it [00:05,  1.25s/it]\n"
     ]
    },
    {
     "name": "stdout",
     "output_type": "stream",
     "text": [
      "MMLU accuracy is 0.46\n"
     ]
    },
    {
     "name": "stderr",
     "output_type": "stream",
     "text": [
      "4it [00:02,  1.47it/s]\n"
     ]
    },
    {
     "name": "stdout",
     "output_type": "stream",
     "text": [
      "HellaSwag accuracy is 0.4\n"
     ]
    },
    {
     "name": "stderr",
     "output_type": "stream",
     "text": [
      "40it [00:07,  5.30it/s]\n"
     ]
    },
    {
     "name": "stdout",
     "output_type": "stream",
     "text": [
      "SciQ accuracy is 0.8\n",
      "{'MMLU': 0.46, 'HellaSwag': 0.4, 'SciQ': 0.8}\n",
      "\n",
      "Evaluating on spa\n",
      "Running MMMLU Evals\n",
      "Will present results for Multilingual MMMLU\n",
      "Running Spanish MMMLU\n"
     ]
    },
    {
     "name": "stderr",
     "output_type": "stream",
     "text": [
      "40it [00:36,  1.11it/s]\n"
     ]
    },
    {
     "name": "stdout",
     "output_type": "stream",
     "text": [
      "MMLU accuracy is 0.259\n",
      "{'MMLU': 0.259}\n",
      "\n",
      "Evaluating on arb\n",
      "Running MMMLU Evals\n",
      "Will present results for Multilingual MMMLU\n",
      "Running Arabic MMMLU\n"
     ]
    },
    {
     "name": "stderr",
     "output_type": "stream",
     "text": [
      "40it [01:22,  2.06s/it]\n"
     ]
    },
    {
     "name": "stdout",
     "output_type": "stream",
     "text": [
      "MMLU accuracy is 0.23\n",
      "{'MMLU': 0.23}\n",
      "\n",
      "Evaluating on swh\n",
      "Running MMMLU Evals\n",
      "Will present results for Multilingual MMMLU\n",
      "Running Swahili MMMLU\n"
     ]
    },
    {
     "name": "stderr",
     "output_type": "stream",
     "text": [
      "40it [00:46,  1.16s/it]"
     ]
    },
    {
     "name": "stdout",
     "output_type": "stream",
     "text": [
      "MMLU accuracy is 0.268\n",
      "{'MMLU': 0.268}\n"
     ]
    },
    {
     "name": "stderr",
     "output_type": "stream",
     "text": [
      "\n"
     ]
    }
   ],
   "source": [
    "# Load the model\n",
    "model_name = \"meta-llama/Llama-2-7b-chat-hf\" # Or any other base model\n",
    "hf_access_token = os.getenv(\"HF_ACCESS_TOKEN\")\n",
    "\n",
    "model = AutoModelForCausalLM.from_pretrained(model_name, token=hf_access_token, torch_dtype=torch.bfloat16).to(\"cuda\")\n",
    "tokenizer = AutoTokenizer.from_pretrained(model_name)\n",
    "\n",
    "print(\"Base Model\")\n",
    "run_evals(model)\n",
    "\n",
    "# print(\"English Only TLAT\")\n",
    "# model.load_adapter(\"adunca08/EnglishOnlyTLAT\")\n",
    "# model.enable_adapters()\n",
    "# run_evals(model)\n",
    "\n",
    "# print(\"English + Vietnamese TLAT\")\n",
    "# model.load_adapter(\"adunca08/EnglishVietnameseTest\")\n",
    "# model.enable_adapters()\n",
    "# run_evals(model)\n",
    "\n",
    "# print(\"Multilingual TLAT\")\n",
    "# model.load_adapter(\"adunca08/MultilingualTrainSFT\")\n",
    "# model.enable_adapters()\n",
    "# run_evals(model)\n",
    "\n",
    "# print(\"Multilingual TLAT with English SFT\")\n",
    "# model.load_adapter(\"adunca08/MultilingualTrainEnglishSFT\")\n",
    "# model.enable_adapters()\n",
    "# run_evals(model)\n",
    "\n"
   ]
  },
  {
   "cell_type": "code",
   "execution_count": null,
   "metadata": {},
   "outputs": [],
   "source": []
  },
  {
   "cell_type": "code",
   "execution_count": null,
   "metadata": {},
   "outputs": [],
   "source": []
  }
 ],
 "metadata": {
  "kernelspec": {
   "display_name": ".mulbere-scratch",
   "language": "python",
   "name": "python3"
  },
  "language_info": {
   "codemirror_mode": {
    "name": "ipython",
    "version": 3
   },
   "file_extension": ".py",
   "mimetype": "text/x-python",
   "name": "python",
   "nbconvert_exporter": "python",
   "pygments_lexer": "ipython3",
   "version": "3.9.20"
  }
 },
 "nbformat": 4,
 "nbformat_minor": 2
}
